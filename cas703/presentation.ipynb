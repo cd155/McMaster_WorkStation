{
 "cells": [
  {
   "cell_type": "markdown",
   "id": "superior-literature",
   "metadata": {},
   "source": [
    "# Paper Presentation\n",
    "\n",
    "In the topic of \"On the criteria to be used in decomposing systems into modules\" by Dr.Parnas\n",
    "\n",
    "The purpose of this presentation is to\n",
    "- summarize the paper\n",
    "- access the impact of the paper\n",
    "- explore limitation/weakness \n",
    "- personal insights\n",
    "\n",
    "###### Speaker: Dong Chen\n",
    "###### Class: CAS 703\n",
    "###### April 14th, 2021\n",
    "###### Professor: Dr.Richard Paige"
   ]
  },
  {
   "cell_type": "markdown",
   "id": "sustainable-documentation",
   "metadata": {},
   "source": [
    "# Introduction"
   ]
  },
  {
   "cell_type": "markdown",
   "id": "considered-identity",
   "metadata": {},
   "source": [
    "The paper talks about how modularization can be used in software development to improve flexibility and comprehensibility, in that way, it could shorten its development time. The paper provides two examples of code implementation. The first example is a KWIC index production system and the second example is the Markov algorithm translator."
   ]
  },
  {
   "cell_type": "markdown",
   "id": "muslim-butterfly",
   "metadata": {},
   "source": [
    "### There are many benefits to Modularization\n",
    "\n",
    "1. Independency\n",
    "    - allow work parallel\n",
    "    - each team focus on related isolated tasks\n",
    "2. Flexibility\n",
    "    - A high cohesion module has related functions in one place. The new change is less likely to impact other modules.\n",
    "3. Understandability\n",
    "    - divide systems into smaller pieces helps developers to understand each module better. This toward eventually understand the whole system better."
   ]
  },
  {
   "cell_type": "markdown",
   "id": "guided-alexandria",
   "metadata": {},
   "source": [
    "### KWIC Index System: outputs a list of all circular shifts of all line in alphabetical order\n",
    "\n",
    "- input: THE COLOUR OF MAGIC\n",
    "- output: \n",
    "    - COLOUR OF MAGIC THE\n",
    "    - MAGIC THE COLOUR OF\n",
    "    - OF MAGIC THE COLOUR\n",
    "    - THE COLOUR OF MAGIC"
   ]
  },
  {
   "cell_type": "markdown",
   "id": "signal-narrow",
   "metadata": {},
   "source": [
    "### Two Designs\n",
    "    Input module -> Circular Shifting -> Alphabetizer -> Output -> Master Control\n",
    "    Line Storage -> Input -> Circular Shifting -> Alphabetizer -> Output -> Master Control\n",
    "    \n",
    "Though both modularization work the same way, it may turn out the second is more manageable when we start changing the module. When it turns to implement the likely change, the first modularization has a significant impact and almost all modules need to be revised."
   ]
  },
  {
   "cell_type": "markdown",
   "id": "improved-crisis",
   "metadata": {},
   "source": [
    "### The Analysis of Two Modularization\n",
    "\n",
    "- The first design would be mainly using a flowchart to divide work tasks. It is a common way to approach decomposition, but it usually results in a poor design. More information needs to provide in the flowchart to accomplish high-quality interfaces. \n",
    "- The second modularization uses the concept of information hiding. In each module, the module will have some functionalities. Dr.Parnas called it secrets. Each module has its secret which is hidden from other modules. The ideal scenario is that developers only need to know what the module can accomplish without knowing how the module produces the result."
   ]
  },
  {
   "cell_type": "markdown",
   "id": "union-three",
   "metadata": {},
   "source": [
    "### Drawback\n",
    "\n",
    "- Second modularization may result in less efficient performance because each function is implemented as a procedure. Some modules can likely be used frequently. Repeated switching between modules can result in low performance."
   ]
  },
  {
   "cell_type": "markdown",
   "id": "connected-aggregate",
   "metadata": {},
   "source": [
    "### Hierarchical structure and 'uses' or 'depends on' relationship\n",
    "\n",
    "Hierarchical structure\n",
    "- a relationship can be defined base on ordering.\n",
    "\n",
    "'Uses' or 'Depends on' relationship.\n",
    "- for Uses: is this module using other modules?\n",
    "- for Depends on: is this module depending on other modules?\n",
    "\n",
    "These two types of relationships can be used to design a system. They are two desirable but independent properties of a system structure."
   ]
  },
  {
   "cell_type": "markdown",
   "id": "satisfactory-spanish",
   "metadata": {},
   "source": [
    "# Access the Impact\n",
    "The paper introduced the design of the software system base on hidden secrets. It was a new concept back in 1972. The concept has been influencing many engineers. Dr.Parnas also used this concept in his iconic project with the US defense department, designed the software control for NRL A-7E jets. It is the first time transferring mechanical control to software control. Other concepts or ideas also still using today. \n",
    "\n",
    "### Anticipate change\n",
    "Anticipate change and likely change are highly related. Today, most software would like to adapt to customer's demands. Those are likely changes, and it is better to consider those likely changes in the design stage.\n",
    "\n",
    "##### Likely change\n",
    "When engineers first start to build new software. The first thing they need to consider is what is likely change and unlikely change in this new software. A likely change can be updating existed sorting algorithm to a more efficient one. In the game design, a likely change can be adding new characters. If we use the likely changes, it could help to separate the possible changes from other parts. It helps to increase maintainability.\n",
    "\n",
    "##### Unlikely change\n",
    "The unlikely changes also can help to improve the design. Since we know some implementation is unlikely to change, we can treat those modules differently. This means developers would not change those codes for a long time.\n",
    "\n",
    "### Information Hiding\n",
    "- decomposition by secrets\n",
    "- change freely without clients notice\n",
    "\n",
    "### Relations between modules\n",
    "- uses, inheritance, association, is component of\n",
    "\n",
    "### Parnas Module Decomposition\n",
    "<img style=\"width:40em;\" src=\"./img/moduledecomposition.png\"></img>"
   ]
  },
  {
   "cell_type": "markdown",
   "id": "impossible-windsor",
   "metadata": {},
   "source": [
    "# Limitation\n",
    "\n",
    "- Drawback of Modularization: Dr.Parnas talked about the possible drawback of modularization. It could decrease the performance if we didn't implement code correction. The talking point seems too abstract. He gave a hypothetic assembler that can insert the routines into the code. An example would be great to clarify what the assembler is.\n",
    "\n",
    "- UML: in the paper, Dr.Parnas highly criticized it is almost always wrong to start the decomposition of a system into modules by using flowcharts. At that time, the flowchart is a bad idea to start modularization, but some diagrams which similar to flowcharts be invented later, such as UML. It contains more information than a traditional flowchart. Nowadays, it seems possible to start modularization base on graphical related shapes, diagrams, or charts.\n",
    "\n",
    "<img style=\"width:40em;\" src=\"./img/flowchart.png\"></img>"
   ]
  },
  {
   "cell_type": "markdown",
   "id": "proof-minority",
   "metadata": {},
   "source": [
    "# Insights\n",
    "\n",
    "- Quantify the quality of the modularization\n",
    "- Machine learning tell the quality of the modularization"
   ]
  },
  {
   "cell_type": "code",
   "execution_count": null,
   "id": "elect-daisy",
   "metadata": {},
   "outputs": [],
   "source": []
  }
 ],
 "metadata": {
  "kernelspec": {
   "display_name": "Python 3",
   "language": "python",
   "name": "python3"
  },
  "language_info": {
   "codemirror_mode": {
    "name": "ipython",
    "version": 3
   },
   "file_extension": ".py",
   "mimetype": "text/x-python",
   "name": "python",
   "nbconvert_exporter": "python",
   "pygments_lexer": "ipython3",
   "version": "3.8.5"
  }
 },
 "nbformat": 4,
 "nbformat_minor": 5
}
