{
 "cells": [
  {
   "cell_type": "code",
   "execution_count": 3,
   "id": "previous-upset",
   "metadata": {},
   "outputs": [
    {
     "data": {
      "text/html": [
       "<style>\n",
       "table {float:left}\n",
       "</style>\n"
      ],
      "text/plain": [
       "<IPython.core.display.HTML object>"
      ]
     },
     "metadata": {},
     "output_type": "display_data"
    }
   ],
   "source": [
    "%%html\n",
    "<style>\n",
    "table {float:left}\n",
    "</style>"
   ]
  },
  {
   "cell_type": "markdown",
   "id": "paperback-banking",
   "metadata": {},
   "source": [
    "|Meaning|EBNF Grammer|Regular Expression|\n",
    "|-------|------------|------------------|\n",
    "|repetition|{}|*|\n",
    "|optional|[]|?|\n",
    "|example 1|['a']|(ab)?|\n",
    "|example 2|{'ab'}|(ab)*|"
   ]
  },
  {
   "cell_type": "markdown",
   "id": "infectious-emperor",
   "metadata": {},
   "source": [
    "    p ::= a {',' a}\n",
    "    a ::= 'e' | '[' p ']' | '(' p ')'"
   ]
  },
  {
   "cell_type": "markdown",
   "id": "reliable-accuracy",
   "metadata": {},
   "source": [
    "Space doesn't matter in EBNF."
   ]
  },
  {
   "cell_type": "markdown",
   "id": "north-parameter",
   "metadata": {},
   "source": [
    "For an EBNF grammar, the two conditions for recursive descent parsing can be phrased as follows:\n",
    "\n",
    "| `E`           | `condition(E)`                               |\n",
    "|:--------------|:---------------------------------------------|\n",
    "| `[E₁]`        | `first(E₁) ∩ follow(E) = {}`                 |\n",
    "| `{E₁}`        | `first(E₁) ∩ follow(E) = {}`                 |\n",
    "| `E₁ E₂ …`     | `first(Eᵢ) ∩ first(Eᵢ₊₁ Eᵢ₊₂ …) = {}` for any nullable `Eᵢ`, provided `E` is not nullable |\n",
    "| `E₁ │ E₂ │ …` | `first(Eᵢ) ∩ first(Eⱼ) = {}` for all `i ≠ j` |"
   ]
  },
  {
   "cell_type": "markdown",
   "id": "quantitative-conjunction",
   "metadata": {},
   "source": [
    "`p ::= a {',' a}` need to apply `E1E2` and `{E1}`"
   ]
  },
  {
   "cell_type": "markdown",
   "id": "sonic-circle",
   "metadata": {},
   "source": [
    "For the first production, both conditions hold. Empty set means disjoint."
   ]
  },
  {
   "cell_type": "markdown",
   "id": "supported-azerbaijan",
   "metadata": {},
   "source": [
    "    E₁ E₂ … → apply only when either E₁, E₂ or Eᵢ is nullable, which is not.\n",
    "    E₁ E₂ … → first(a) ∩ first({',' a})\n",
    "              = {'e', '[', '('} ∩ {','}\n",
    "              = {}\n",
    "    {E₁} → first({',' a}) ∩ follow(p)\n",
    "           = {','} ∩ {']', ')'}\n",
    "           = {}"
   ]
  },
  {
   "cell_type": "markdown",
   "id": "south-entrepreneur",
   "metadata": {},
   "source": [
    "For the second production, the conditions hold"
   ]
  },
  {
   "cell_type": "markdown",
   "id": "timely-bangkok",
   "metadata": {},
   "source": [
    "    E₁ │ E₂ │ … → first('e') ∩ first('[' p ']') = {}\n",
    "                → first('e') ∩ first('(' p ')') = {}\n",
    "                → first('[' p ']') ∩ first('(' p ')') = {}"
   ]
  },
  {
   "cell_type": "markdown",
   "id": "dynamic-symphony",
   "metadata": {},
   "source": [
    "Create the parser in Python"
   ]
  },
  {
   "cell_type": "markdown",
   "id": "alpine-specification",
   "metadata": {},
   "source": [
    "    p ::= a {',' a}\n",
    "    a ::= 'e' | '[' p ']' | '(' p ')'"
   ]
  },
  {
   "cell_type": "code",
   "execution_count": 33,
   "id": "infrared-guitar",
   "metadata": {},
   "outputs": [],
   "source": [
    "def getCh():\n",
    "    global ch, source\n",
    "    if len(source) > 0: ch, source = source[0], source[1:]\n",
    "    else: ch = None \n",
    "\n",
    "def depth(s):\n",
    "    global source\n",
    "    source = s; getCh(); p()\n",
    "    if ch != None: raise \n",
    "\n",
    "def a():\n",
    "    if ch == 'e': getCh()\n",
    "    elif ch == '[':\n",
    "        getCh(); p()\n",
    "        if ch == ']': getCh()\n",
    "        else: raise\n",
    "    elif ch == '(':\n",
    "        getCh(); p()\n",
    "        if ch == ')': getCh()\n",
    "        else: raise\n",
    "    else: raise\n",
    "def p():\n",
    "    a()\n",
    "    while ch == ',': getCh(); a()"
   ]
  },
  {
   "cell_type": "markdown",
   "id": "catholic-pencil",
   "metadata": {},
   "source": [
    "The depth of an expression is the maximal level of nested parenthesis or brackets. Extend the grammar with attribute rules that compute the depth. Apply attribute rules by «  »."
   ]
  }
 ],
 "metadata": {
  "kernelspec": {
   "display_name": "Python 3",
   "language": "python",
   "name": "python3"
  },
  "language_info": {
   "codemirror_mode": {
    "name": "ipython",
    "version": 3
   },
   "file_extension": ".py",
   "mimetype": "text/x-python",
   "name": "python",
   "nbconvert_exporter": "python",
   "pygments_lexer": "ipython3",
   "version": "3.8.5"
  }
 },
 "nbformat": 4,
 "nbformat_minor": 5
}
