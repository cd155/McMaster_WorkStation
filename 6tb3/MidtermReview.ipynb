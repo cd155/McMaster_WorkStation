{
 "cells": [
  {
   "cell_type": "code",
   "execution_count": 1,
   "id": "intense-laugh",
   "metadata": {},
   "outputs": [
    {
     "data": {
      "text/html": [
       "<style>\n",
       "table {float:left}\n",
       "</style>\n"
      ],
      "text/plain": [
       "<IPython.core.display.HTML object>"
      ]
     },
     "metadata": {},
     "output_type": "display_data"
    }
   ],
   "source": [
    "%%html\n",
    "<style>\n",
    "table {float:left}\n",
    "</style>"
   ]
  },
  {
   "cell_type": "markdown",
   "id": "general-prophet",
   "metadata": {},
   "source": [
    "|Meaning|EBNF Grammer|Regular Expression|\n",
    "|-------|------------|------------------|\n",
    "|repetition|{}|*|\n",
    "|optional|[]|?|\n",
    "|example 1|['a']|(ab)?|\n",
    "|example 2|{'ab'}|(ab)*|"
   ]
  },
  {
   "cell_type": "markdown",
   "id": "secondary-journalist",
   "metadata": {},
   "source": [
    "    p ::= a {',' a}\n",
    "    a ::= 'e' | '[' p ']' | '(' p ')'"
   ]
  },
  {
   "cell_type": "markdown",
   "id": "preliminary-vietnam",
   "metadata": {},
   "source": [
    "Space doesn't matter in EBNF."
   ]
  },
  {
   "cell_type": "markdown",
   "id": "qualified-petersburg",
   "metadata": {},
   "source": [
    "For an EBNF grammar, the two conditions for recursive descent parsing can be phrased as follows:\n",
    "\n",
    "| `E`           | `condition(E)`                               |\n",
    "|:--------------|:---------------------------------------------|\n",
    "| `[E₁]`        | `first(E₁) ∩ follow(E) = {}`                 |\n",
    "| `{E₁}`        | `first(E₁) ∩ follow(E) = {}`                 |\n",
    "| `E₁ E₂ …`     | `first(Eᵢ) ∩ first(Eᵢ₊₁ Eᵢ₊₂ …) = {}` for any nullable `Eᵢ`, provided `E` is not nullable |\n",
    "| `E₁ │ E₂ │ …` | `first(Eᵢ) ∩ first(Eⱼ) = {}` for all `i ≠ j` |"
   ]
  },
  {
   "cell_type": "markdown",
   "id": "indie-allergy",
   "metadata": {},
   "source": [
    "`p ::= a {',' a}` need to apply `E1E2` and `{E1}`"
   ]
  },
  {
   "cell_type": "markdown",
   "id": "authorized-product",
   "metadata": {},
   "source": [
    "For the first production, both conditions hold. Empty set means disjoint."
   ]
  },
  {
   "cell_type": "markdown",
   "id": "viral-conditions",
   "metadata": {},
   "source": [
    "    E₁ E₂ … → apply only when either E₁, E₂ or Eᵢ is nullable, which is not.\n",
    "    E₁ E₂ … → first(a) ∩ first({',' a})\n",
    "              = {'e', '[', '('} ∩ {','}\n",
    "              = {}\n",
    "    {E₁} → first({',' a}) ∩ follow(p)\n",
    "           = {','} ∩ {']', ')'}\n",
    "           = {}"
   ]
  },
  {
   "cell_type": "markdown",
   "id": "prompt-trace",
   "metadata": {},
   "source": [
    "For the second production, the conditions hold"
   ]
  },
  {
   "cell_type": "markdown",
   "id": "forbidden-prerequisite",
   "metadata": {},
   "source": [
    "    E₁ │ E₂ │ … → first('e') ∩ first('[' p ']') = {}\n",
    "                → first('e') ∩ first('(' p ')') = {}\n",
    "                → first('[' p ']') ∩ first('(' p ')') = {}"
   ]
  },
  {
   "cell_type": "markdown",
   "id": "still-membrane",
   "metadata": {},
   "source": [
    "Create the parser in Python"
   ]
  },
  {
   "cell_type": "markdown",
   "id": "optimum-bosnia",
   "metadata": {},
   "source": [
    "    p ::= a {',' a}\n",
    "    a ::= 'e' | '[' p ']' | '(' p ')'"
   ]
  },
  {
   "cell_type": "code",
   "execution_count": 2,
   "id": "liked-validity",
   "metadata": {},
   "outputs": [],
   "source": [
    "def getCh():\n",
    "    global ch, source\n",
    "    if len(source) > 0: ch, source = source[0], source[1:]\n",
    "    else: ch = None \n",
    "\n",
    "def depth(s):\n",
    "    global source\n",
    "    source = s; getCh(); p()\n",
    "    if ch != None: raise \n",
    "\n",
    "def a():\n",
    "    if ch == 'e': getCh()\n",
    "    elif ch == '[':\n",
    "        getCh(); p()\n",
    "        if ch == ']': getCh()\n",
    "        else: raise\n",
    "    elif ch == '(':\n",
    "        getCh(); p()\n",
    "        if ch == ')': getCh()\n",
    "        else: raise\n",
    "    else: raise\n",
    "def p():\n",
    "    a()\n",
    "    while ch == ',': getCh(); a()"
   ]
  },
  {
   "cell_type": "code",
   "execution_count": 3,
   "id": "contrary-marketplace",
   "metadata": {},
   "outputs": [],
   "source": [
    "depth('e')\n",
    "depth('[e]')\n",
    "depth('(e,e,e)')\n",
    "depth('([e],(e),e,e)')\n",
    "depth('[e,e,[e,[e,e]]]')"
   ]
  },
  {
   "cell_type": "markdown",
   "id": "binary-iceland",
   "metadata": {},
   "source": [
    "The depth of an expression is the maximal level of nested parenthesis or brackets. Extend the grammar with attribute rules that compute the depth. Apply attribute rules by «  »."
   ]
  },
  {
   "cell_type": "markdown",
   "id": "seven-identification",
   "metadata": {},
   "source": [
    "    p(x) ::= a(x) {',' a(y) «x=max(x, y)» } \n",
    "    a(x) ::= 'e' «x=0» | '[' p(y) «x=y+1» ']'  | '(' p(y) «x=y+1» ')'"
   ]
  },
  {
   "cell_type": "markdown",
   "id": "vocal-terminology",
   "metadata": {},
   "source": [
    "Each time there is [] or (), we know there is one more parenthesis or bracket be added. there are two a in p, so we want find the Max depth of two a."
   ]
  },
  {
   "cell_type": "code",
   "execution_count": 4,
   "id": "stable-african",
   "metadata": {},
   "outputs": [],
   "source": [
    "def getCh():\n",
    "    global ch, source\n",
    "    if len(source) > 0: ch, source = source[0], source[1:]\n",
    "    else: ch = None \n",
    "\n",
    "def depth(s):\n",
    "    global source\n",
    "    source = s; getCh(); \n",
    "    d = p()\n",
    "    if ch != None: raise \n",
    "    return d\n",
    "\n",
    "def a():\n",
    "    x = 0\n",
    "    if ch == 'e': getCh(); x = 0\n",
    "    elif ch == '[':\n",
    "        getCh(); x = p() + 1\n",
    "        if ch == ']': getCh()\n",
    "        else: raise\n",
    "    elif ch == '(':\n",
    "        getCh(); x = p() + 1\n",
    "        if ch == ')': getCh()\n",
    "        else: raise\n",
    "    else: raise\n",
    "    return x\n",
    "def p():\n",
    "    x = a()\n",
    "    while ch == ',': getCh(); y = a(); x = max(x, y)\n",
    "    return x"
   ]
  },
  {
   "cell_type": "code",
   "execution_count": 5,
   "id": "driven-aside",
   "metadata": {},
   "outputs": [],
   "source": [
    "assert depth('e') == 0\n",
    "assert depth('[e]') == 1\n",
    "assert depth('(e,e,e)') == 1\n",
    "assert depth('([e],(e),e,e)') == 2\n",
    "assert depth('[e,e,[e,[e,e]]]') == 3"
   ]
  },
  {
   "cell_type": "markdown",
   "id": "atmospheric-physics",
   "metadata": {},
   "source": [
    "More examples on Lab5 Question2"
   ]
  }
 ],
 "metadata": {
  "kernelspec": {
   "display_name": "Python 3",
   "language": "python",
   "name": "python3"
  },
  "language_info": {
   "codemirror_mode": {
    "name": "ipython",
    "version": 3
   },
   "file_extension": ".py",
   "mimetype": "text/x-python",
   "name": "python",
   "nbconvert_exporter": "python",
   "pygments_lexer": "ipython3",
   "version": "3.8.5"
  }
 },
 "nbformat": 4,
 "nbformat_minor": 5
}
